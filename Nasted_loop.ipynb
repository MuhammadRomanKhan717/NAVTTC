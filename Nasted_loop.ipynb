{
  "nbformat": 4,
  "nbformat_minor": 0,
  "metadata": {
    "colab": {
      "name": "Nasted loop",
      "provenance": [],
      "collapsed_sections": [],
      "authorship_tag": "ABX9TyPnGwtpMyaQpsLuestXRZOO",
      "include_colab_link": true
    },
    "kernelspec": {
      "name": "python3",
      "display_name": "Python 3"
    },
    "language_info": {
      "name": "python"
    }
  },
  "cells": [
    {
      "cell_type": "markdown",
      "metadata": {
        "id": "view-in-github",
        "colab_type": "text"
      },
      "source": [
        "<a href=\"https://colab.research.google.com/github/MuhammadRomanKhan717/NAVTTC/blob/main/Nasted_loop.ipynb\" target=\"_parent\"><img src=\"https://colab.research.google.com/assets/colab-badge.svg\" alt=\"Open In Colab\"/></a>"
      ]
    },
    {
      "cell_type": "code",
      "metadata": {
        "id": "ycG-VB_OPP7L",
        "colab": {
          "base_uri": "https://localhost:8080/"
        },
        "outputId": "16feb8e6-ae4d-4d15-f9f6-9e2382c79d0d"
      },
      "source": [
        "a= int(input(\"Enter Value \"))\n",
        "\n",
        "if a>0:\n",
        "  if a%2==0:\n",
        "    print(\"Entered value is Possitive and even\")\n",
        "  else:\n",
        "    print(\"Entered Value is possitive and Odd\")\n",
        "elif a<0:\n",
        "   if a%2==0:\n",
        "     print(\"Entered Value is Nagative and Even\")\n",
        "   else:\n",
        "       print(\"Enterde value is Nagative and Odd\")\n",
        "else:\n",
        "  print(\"Entered value is Invlid \") \n",
        "\n",
        "\n",
        "  \n"
      ],
      "execution_count": 48,
      "outputs": [
        {
          "output_type": "stream",
          "text": [
            "Enter Value -78\n",
            "Entered Value is Nagative and Even\n"
          ],
          "name": "stdout"
        }
      ]
    },
    {
      "cell_type": "code",
      "metadata": {
        "id": "kRoxCx21X136"
      },
      "source": [
        ""
      ],
      "execution_count": 45,
      "outputs": []
    }
  ]
}